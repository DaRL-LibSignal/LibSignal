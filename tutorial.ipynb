{
 "cells": [
  {
   "cell_type": "code",
   "execution_count": 1,
   "metadata": {},
   "outputs": [],
   "source": [
    "# test environment\n",
    "import sys,os\n",
    "import cityflow\n",
    "import sumolib\n",
    "sys.path.append('/home/jovyan/work/LibSignal')"
   ]
  },
  {
   "cell_type": "markdown",
   "metadata": {},
   "source": [
    "### If **sumolib** import fail, execute the following cell"
   ]
  },
  {
   "cell_type": "code",
   "execution_count": 2,
   "metadata": {},
   "outputs": [],
   "source": [
    "# %set_env SUMO_HOME=~/DaRL/sumo\n",
    "# %set_env PYTHONPATH=~/DaRL/sum/tools:$PYTHONPATH\n",
    "# sys.path.append('/home/jovyan/sumo')"
   ]
  },
  {
   "cell_type": "markdown",
   "metadata": {},
   "source": [
    "# 1. Overall framework of LibSignal project"
   ]
  },
  {
   "cell_type": "markdown",
   "metadata": {},
   "source": [
    "<div align=\"center\">\n",
    "<img src=\"./images/overview.png\" width=\"80%\">\n",
    "</div>"
   ]
  },
  {
   "cell_type": "markdown",
   "metadata": {},
   "source": [
    "```\n",
    ".\n",
    "├── Dockerfile\n",
    "├── README.md\n",
    "├── agent\n",
    "│   ├── {implemented agents}\n",
    "    └── {your agents}\n",
    "├── common\n",
    "│   ├── converter.py\n",
    "│   ├── interface.py\n",
    "│   ├── metrics.py\n",
    "│   ├── registry.py\n",
    "│   └── utils.py\n",
    "├── configs\n",
    "│   ├── sim\n",
    "│   ├── tsc\n",
    "│   └── tscfx\n",
    "├── data\n",
    "│   └── raw_data\n",
    "├── environment.py\n",
    "├── generator\n",
    "│   ├── base.py\n",
    "│   ├── intersection_phase.py\n",
    "│   ├── intersection_vehicle.py\n",
    "│   └── lane_vehicle.py\n",
    "├── run.py\n",
    "├── task\n",
    "│   └── task.py\n",
    "├── trainer\n",
    "├── utils\n",
    "│   ├── logger.py\n",
    "│   └── painter.py\n",
    "└── world\n",
    "    ├── world_cityflow.py\n",
    "    └── world_sumo.py\n",
    "```"
   ]
  },
  {
   "cell_type": "markdown",
   "metadata": {},
   "source": [
    "## 1.1. How we achieved cross-simulator simulation with changable RL agents"
   ]
  },
  {
   "cell_type": "markdown",
   "metadata": {},
   "source": [
    "``` python\n",
    "class TSCEnv(gym.Env):\n",
    "    \"\"\"\n",
    "    Environment for Traffic Signal Control task.\n",
    "    world: World object\n",
    "    agents: list of agents, corresponding to each intersection in world.intersections\n",
    "    metric: Metric object, used to calculate evaluation metric\n",
    "    \"\"\"\n",
    "    def __init__(self, world, agents, metric):\n",
    "        # simulator component \n",
    "        self.world = world\n",
    "        self.eng = self.world.eng\n",
    "        \n",
    "        # RL or rule-based agents\n",
    "        self.agents = agents\n",
    "        action_dims = [agent.action_space.n * agent.sub_agents for agent in agents]\n",
    "        self.action_space = gym.spaces.MultiDiscrete(action_dims)\n",
    "\n",
    "        # metric to evaluate agents' performance\n",
    "        self.metric = metric\n",
    "\n",
    "    def step(self, actions):\n",
    "        # pass actions to simulator\n",
    "        self.world.step(actions)\n",
    "        # pass information to agents and record evaluation metrics\n",
    "        obs = [agent.get_ob() for agent in self.agents]\n",
    "        rewards = [agent.get_reward() for agent in self.agents]\n",
    "        dones = [False] * self.n_agents\n",
    "        return obs, rewards, dones, infos\n",
    "```"
   ]
  },
  {
   "cell_type": "markdown",
   "metadata": {},
   "source": [
    "<div align=\"left\">\n",
    "<img src=\"./tutorial/images/decup.jpg\" width=\"40%\">\n",
    "</div>"
   ]
  },
  {
   "cell_type": "markdown",
   "metadata": {},
   "source": [
    "## 1.2. Alignment result of cross-simulator simualtion"
   ]
  },
  {
   "cell_type": "markdown",
   "metadata": {},
   "source": [
    "<div align=\"center\">\n",
    "<img src=\"./tutorial/images/Cologne1x1.png\" width=\"80%\">\n",
    "</div>\n",
    "<div align=\"center\">\n",
    "<img src=\"./tutorial/images/hangzhou4x4.png\" width=\"80%\">\n",
    "</div>"
   ]
  },
  {
   "cell_type": "markdown",
   "metadata": {},
   "source": [
    "## 1.3. Current simulator support and planning simulator implementation"
   ]
  },
  {
   "cell_type": "markdown",
   "metadata": {},
   "source": [
    "### 1.3.1. Implemented \n",
    "We currently implemented <mark>SUMO</mark> and <mark>Cityflow</mark> simulators, which cover 65% of recent publications in the traffic signal control domain (till July 2022). \n",
    "The simulatiors information could be retrived from [Cityflow](https://cityflow.readthedocs.io/en/latest/) and [SUMO](https://eclipse.dev/sumo/)\n",
    "\n",
    "### 1.3.2. Future work\n",
    "Our group is also considering implementing other simulations with more scalability and emerging in recent years studies including <mark>CBLab</mark>, <mark>CarLA</mark>, <mark>Mobiliti</mark> and <mark>Vissim</mark>. To find the detailed information, please refer to [CBLab](https://github.com/CaradryanLiang/CityBrainLab), [CarLA](https://carla.org/), [Mobiliti](https://crd.lbl.gov/divisions/amcr/computer-science-amcr/cag/research/mobiliti/) and [VISSIM](https://www.issd.com.tr/en/22992/PTV-VISSIM-Traffic-Simulation-Software).\n",
    "\n",
    "***\n"
   ]
  },
  {
   "cell_type": "markdown",
   "metadata": {},
   "source": [
    "# 2. Quick start of LibSignal"
   ]
  },
  {
   "cell_type": "markdown",
   "metadata": {},
   "source": [
    "To make demo runing faster, <mark>I set **epoch=20** in **base.yml** here. **Default setting is 200**</mark> in our experiment report.\n",
    "```\n",
    ".\n",
    "└── configs\n",
    "    ├── sim\n",
    "    ├── tsc\n",
    "    │    ├── base.yml\n",
    "    │    └── ...\n",
    "    └── tscfx\n",
    "\n",
    "```\n",
    "\n",
    "<div align=\"left\">\n",
    "<img src=\"./tutorial/images/default.png\" width=\"80%\">\n",
    "</div>"
   ]
  },
  {
   "cell_type": "markdown",
   "metadata": {},
   "source": [
    "## 2.1. Only one step to start the simulation"
   ]
  },
  {
   "cell_type": "code",
   "execution_count": 4,
   "metadata": {},
   "outputs": [
    {
     "name": "stdout",
     "output_type": "stream",
     "text": [
      "building world...\n",
      "creating intersections...\n",
      "intersections created.\n",
      "parsing roads...\n",
      "roads parsed.\n",
      "world built.\n",
      "DQNNet(\n",
      "  (dense_1): Linear(in_features=32, out_features=20, bias=True)\n",
      "  (dense_2): Linear(in_features=20, out_features=20, bias=True)\n",
      "  (dense_3): Linear(in_features=20, out_features=8, bias=True)\n",
      ")\n",
      "2023-09-18 19:26:25 (INFO): step:3600/3600, q_loss:0, rewards:-21.552591959635418, queue:1.3403502570258246, delay:0.12677302890353734, throughput:2419\n",
      "2023-09-18 19:26:25 (INFO): episode:0/20, real avg travel time:705.5645323499832\n",
      "2023-09-18 19:26:34 (INFO): Test step:0/20, travel time :1463.3369091518605, rewards:-76.17607964409723, queue:4.770805528428819, delay:0.2370489756266276, throughput:1389\n",
      "2023-09-18 19:26:40 (INFO): step:3600/3600, q_loss:0, rewards:-19.94522976345486, queue:1.23770260281033, delay:0.1238239500257704, throughput:2451\n",
      "2023-09-18 19:26:40 (INFO): episode:1/20, real avg travel time:680.2678511565538\n",
      "2023-09-18 19:26:48 (INFO): Test step:1/20, travel time :1463.3369091518605, rewards:-76.17607964409723, queue:4.770805528428819, delay:0.2370489756266276, throughput:1389\n",
      "2023-09-18 19:26:56 (INFO): step:3600/3600, q_loss:0.17455139756202698, rewards:-24.034792751736113, queue:1.4968314276801216, delay:0.14376742045084637, throughput:2554\n",
      "2023-09-18 19:26:56 (INFO): episode:2/20, real avg travel time:725.9245725779417\n",
      "2023-09-18 19:27:03 (INFO): Test step:2/20, travel time :1062.6902447200805, rewards:-52.6201171875, queue:3.2941263834635417, delay:0.2541841083102756, throughput:2129\n",
      "2023-09-18 19:27:15 (INFO): step:3600/3600, q_loss:0.0810767114162445, rewards:-17.377681477864584, queue:1.0815682305230034, delay:0.16755684746636285, throughput:2581\n",
      "2023-09-18 19:27:15 (INFO): episode:3/20, real avg travel time:589.9269192088501\n",
      "2023-09-18 19:27:22 (INFO): Test step:3/20, travel time :651.719409989943, rewards:-24.734586588541667, queue:1.5450380113389757, delay:0.1827166239420573, throughput:2504\n",
      "2023-09-18 19:27:34 (INFO): step:3600/3600, q_loss:0.11340800672769547, rewards:-6.765116373697917, queue:0.41422178480360244, delay:0.14679513507419162, throughput:2915\n",
      "2023-09-18 19:27:34 (INFO): episode:4/20, real avg travel time:392.0714046262152\n",
      "2023-09-18 19:27:40 (INFO): Test step:4/20, travel time :487.1820315119008, rewards:-14.501458062065971, queue:0.9010127597384983, delay:0.1604217529296875, throughput:2758\n",
      "2023-09-18 19:27:53 (INFO): step:3600/3600, q_loss:0.10686597973108292, rewards:-4.633449300130208, queue:0.28041085137261285, delay:0.12376075320773655, throughput:2908\n",
      "2023-09-18 19:27:53 (INFO): episode:5/20, real avg travel time:360.4351324170298\n",
      "2023-09-18 19:27:59 (INFO): Test step:5/20, travel time :404.32886356017434, rewards:-7.727707248263889, queue:0.47549184163411456, delay:0.13005447387695312, throughput:2882\n",
      "2023-09-18 19:28:11 (INFO): step:3600/3600, q_loss:0.08987250924110413, rewards:-4.26875, queue:0.25733504825168185, delay:0.11613485548231336, throughput:2924\n",
      "2023-09-18 19:28:11 (INFO): episode:6/20, real avg travel time:357.0817968488099\n",
      "2023-09-18 19:28:17 (INFO): Test step:6/20, travel time :347.32819309420046, rewards:-3.6277089436848957, queue:0.21685473124186197, delay:0.10951164033677843, throughput:2931\n",
      "2023-09-18 19:28:29 (INFO): step:3600/3600, q_loss:0.07782351970672607, rewards:-3.1615281846788195, queue:0.18804976145426433, delay:0.10318815443250869, throughput:2924\n",
      "2023-09-18 19:28:29 (INFO): episode:7/20, real avg travel time:341.21790144150185\n",
      "2023-09-18 19:28:35 (INFO): Test step:7/20, travel time :381.3938987596379, rewards:-6.072939724392361, queue:0.3707030402289497, delay:0.10877685546875, throughput:2855\n",
      "2023-09-18 19:28:48 (INFO): step:3600/3600, q_loss:0.06259546428918839, rewards:-3.206504652235243, queue:0.190205446879069, delay:0.10089759826660157, throughput:2926\n",
      "2023-09-18 19:28:48 (INFO): episode:8/20, real avg travel time:342.6453234998324\n",
      "2023-09-18 19:28:53 (INFO): Test step:8/20, travel time :339.9302715387194, rewards:-3.0699537489149304, queue:0.18214700486924912, delay:0.09896154403686523, throughput:2925\n",
      "2023-09-18 19:29:05 (INFO): step:3600/3600, q_loss:0.05346522480249405, rewards:-3.0844211154513888, queue:0.18307291666666667, delay:0.10046616660224067, throughput:2928\n",
      "2023-09-18 19:29:05 (INFO): episode:9/20, real avg travel time:340.7505866577271\n",
      "2023-09-18 19:29:11 (INFO): Test step:9/20, travel time :340.31713040563193, rewards:-3.088750542534722, queue:0.18331887986924914, delay:0.09878092871771918, throughput:2922\n",
      "2023-09-18 19:29:24 (INFO): step:3600/3600, q_loss:0.04914330318570137, rewards:-2.6475694444444446, queue:0.15522278679741752, delay:0.09322481155395508, throughput:2928\n",
      "2023-09-18 19:29:24 (INFO): episode:10/20, real avg travel time:334.85685551458266\n",
      "2023-09-18 19:29:30 (INFO): Test step:10/20, travel time :342.94233992624874, rewards:-3.2373609754774306, queue:0.19247684478759766, delay:0.10115741093953451, throughput:2927\n",
      "2023-09-18 19:29:42 (INFO): step:3600/3600, q_loss:0.04510213062167168, rewards:-2.6666900634765627, queue:0.15701677534315323, delay:0.09211685392591688, throughput:2932\n",
      "2023-09-18 19:29:42 (INFO): episode:11/20, real avg travel time:334.9601072745558\n",
      "2023-09-18 19:29:48 (INFO): Test step:11/20, travel time :334.04693261816965, rewards:-2.6021759033203127, queue:0.1521701388888889, delay:0.0903008566962348, throughput:2929\n",
      "2023-09-18 19:30:00 (INFO): step:3600/3600, q_loss:0.04245974123477936, rewards:-2.5551161024305555, queue:0.1497974395751953, delay:0.09003041585286459, throughput:2926\n",
      "2023-09-18 19:30:00 (INFO): episode:12/20, real avg travel time:333.55849815621855\n",
      "2023-09-18 19:30:06 (INFO): Test step:12/20, travel time :332.927589674824, rewards:-2.5523839314778645, queue:0.14958041508992512, delay:0.09110221862792969, throughput:2930\n",
      "2023-09-18 19:30:18 (INFO): step:3600/3600, q_loss:0.03866489231586456, rewards:-2.466111077202691, queue:0.14363423453436958, delay:0.08687867588467069, throughput:2928\n",
      "2023-09-18 19:30:18 (INFO): episode:13/20, real avg travel time:331.81159906134764\n",
      "2023-09-18 19:30:24 (INFO): Test step:13/20, travel time :335.4502179014415, rewards:-2.737823486328125, queue:0.1611834208170573, delay:0.095389281378852, throughput:2928\n",
      "2023-09-18 19:30:36 (INFO): step:3600/3600, q_loss:0.033710744231939316, rewards:-2.3656253390842013, queue:0.13771704567803278, delay:0.08487384054395887, throughput:2931\n",
      "2023-09-18 19:30:36 (INFO): episode:14/20, real avg travel time:330.2497485752598\n",
      "2023-09-18 19:30:42 (INFO): Test step:14/20, travel time :331.1005698960778, rewards:-2.4014580620659722, queue:0.13991609149509007, delay:0.0866985003153483, throughput:2932\n",
      "2023-09-18 19:30:54 (INFO): step:3600/3600, q_loss:0.029134908691048622, rewards:-2.328194342719184, queue:0.13530093299018012, delay:0.08200897640652127, throughput:2927\n",
      "2023-09-18 19:30:54 (INFO): episode:15/20, real avg travel time:330.3962453905464\n",
      "2023-09-18 19:31:01 (INFO): Test step:15/20, travel time :332.00335232986924, rewards:-2.4679629855685765, queue:0.14445892969767252, delay:0.087729369269477, throughput:2926\n",
      "2023-09-18 19:31:13 (INFO): step:3600/3600, q_loss:0.021651074290275574, rewards:-2.316713121202257, queue:0.13472222222222222, delay:0.08226866722106933, throughput:2932\n",
      "2023-09-18 19:31:13 (INFO): episode:16/20, real avg travel time:330.171974522293\n",
      "2023-09-18 19:31:19 (INFO): Test step:16/20, travel time :331.5172644988267, rewards:-2.41495361328125, queue:0.13995950486924913, delay:0.08464221954345703, throughput:2931\n",
      "2023-09-18 19:31:31 (INFO): step:3600/3600, q_loss:0.012351538985967636, rewards:-2.296574232313368, queue:0.1332176102532281, delay:0.0788787047068278, throughput:2931\n",
      "2023-09-18 19:31:31 (INFO): episode:17/20, real avg travel time:329.79114984914514\n",
      "2023-09-18 19:31:37 (INFO): Test step:17/20, travel time :331.3955749245726, rewards:-2.3697452121310763, queue:0.1377170032925076, delay:0.08296338187323676, throughput:2929\n",
      "2023-09-18 19:31:49 (INFO): step:3600/3600, q_loss:0.009168676100671291, rewards:-2.44928215874566, queue:0.14228878021240235, delay:0.08542267481486003, throughput:2931\n",
      "2023-09-18 19:31:49 (INFO): episode:18/20, real avg travel time:332.2691920885015\n",
      "2023-09-18 19:31:55 (INFO): Test step:18/20, travel time :329.4150184378143, rewards:-2.2690741644965278, queue:0.1310763782925076, delay:0.08086891704135471, throughput:2933\n",
      "2023-09-18 19:32:07 (INFO): step:3600/3600, q_loss:0.008309995755553246, rewards:-2.2709950764973956, queue:0.13142361111111112, delay:0.0794518576727973, throughput:2929\n",
      "2023-09-18 19:32:07 (INFO): episode:19/20, real avg travel time:329.6587328193094\n",
      "2023-09-18 19:32:13 (INFO): Test step:19/20, travel time :331.48876969493796, rewards:-2.377477010091146, queue:0.138310178120931, delay:0.08163914680480958, throughput:2929\n",
      "2023-09-18 19:32:19 (INFO): Final Travel Time is 331.4888, mean rewards: -2.3775, queue: 0.1383, delay: 0.0816, throughput: 2929\n",
      "2023-09-18 19:32:19 (INFO): Total time taken: 361.33139419555664\n"
     ]
    }
   ],
   "source": [
    "%run run.py"
   ]
  },
  {
   "cell_type": "markdown",
   "metadata": {},
   "source": [
    "## 2.2. Command line interface (CLI) and parameter settings\n"
   ]
  },
  {
   "cell_type": "code",
   "execution_count": 2,
   "metadata": {},
   "outputs": [
    {
     "name": "stdout",
     "output_type": "stream",
     "text": [
      "building world...\n",
      "creating intersections...\n",
      "intersections created.\n",
      "parsing roads...\n",
      "roads parsed.\n",
      "world built.\n",
      "FRAP(\n",
      "  (p): Embedding(2, 4)\n",
      "  (d): Linear(in_features=1, out_features=4, bias=True)\n",
      "  (lane_embedding): Linear(in_features=8, out_features=16, bias=True)\n",
      "  (lane_conv): Conv2d(32, 20, kernel_size=(1, 1), stride=(1, 1))\n",
      "  (relation_embedding): Embedding(2, 4)\n",
      "  (relation_conv): Conv2d(4, 20, kernel_size=(1, 1), stride=(1, 1))\n",
      "  (hidden_layer): Conv2d(20, 20, kernel_size=(1, 1), stride=(1, 1))\n",
      "  (before_merge): Conv2d(20, 1, kernel_size=(1, 1), stride=(1, 1))\n",
      ")\n",
      "2023-09-05 04:31:02 (INFO): step:3600/3600, q_loss:0, rewards:-21.397775607638888, queue:15.965104166666666, delay:0.12405602137247722, throughput:2458\n",
      "2023-09-05 04:31:02 (INFO): episode:0/20, real avg travel time:697.9648005363728\n",
      "2023-09-05 04:31:20 (INFO): Test step:0/20, travel time :1273.4327857861213, rewards:-57.362163628472224, queue:43.10503472222222, delay:0.18156378004286025, throughput:1662\n",
      "2023-09-05 04:31:30 (INFO): step:3600/3600, q_loss:0, rewards:-21.93129340277778, queue:16.37065972222222, delay:0.12686509026421441, throughput:2410\n",
      "2023-09-05 04:31:30 (INFO): episode:1/20, real avg travel time:716.9252430439155\n",
      "2023-09-05 04:31:46 (INFO): Test step:1/20, travel time :1273.4327857861213, rewards:-57.362163628472224, queue:43.10503472222222, delay:0.18156378004286025, throughput:1662\n",
      "2023-09-05 04:32:09 (INFO): step:3600/3600, q_loss:0.58477783203125, rewards:-22.0317626953125, queue:16.467708333333334, delay:0.14064900080362955, throughput:2448\n",
      "2023-09-05 04:32:09 (INFO): episode:2/20, real avg travel time:700.2889708347301\n",
      "2023-09-05 04:32:26 (INFO): Test step:2/20, travel time :1350.8632249413342, rewards:-70.81821831597222, queue:53.22378472222222, delay:0.19936712053087022, throughput:1884\n",
      "2023-09-05 04:33:34 (INFO): step:3600/3600, q_loss:0.39111047983169556, rewards:-51.003857421875, queue:38.273784722222224, delay:0.1700398974948459, throughput:1718\n",
      "2023-09-05 04:33:34 (INFO): episode:3/20, real avg travel time:1195.1552128729468\n",
      "2023-09-05 04:33:50 (INFO): Test step:3/20, travel time :1150.0214549111633, rewards:-43.15090060763889, queue:32.38715277777778, delay:0.10852029588487414, throughput:1554\n",
      "2023-09-05 04:34:58 (INFO): step:3600/3600, q_loss:0.5257012248039246, rewards:-24.176435004340277, queue:18.066319444444446, delay:0.13882660335964628, throughput:2654\n",
      "2023-09-05 04:34:58 (INFO): episode:4/20, real avg travel time:829.9151860543077\n",
      "2023-09-05 04:35:12 (INFO): Test step:4/20, travel time :471.3013744552464, rewards:-13.333260091145833, queue:9.926388888888889, delay:0.12888406117757162, throughput:2927\n",
      "2023-09-05 04:36:21 (INFO): step:3600/3600, q_loss:0.35805559158325195, rewards:-14.059049479166667, queue:10.457638888888889, delay:0.14324463738335502, throughput:2927\n",
      "2023-09-05 04:36:21 (INFO): episode:5/20, real avg travel time:505.6661079450218\n",
      "2023-09-05 04:36:37 (INFO): Test step:5/20, travel time :601.3110962118673, rewards:-23.610091145833334, queue:17.67222222222222, delay:0.14406017727322049, throughput:2790\n",
      "2023-09-05 04:37:45 (INFO): step:3600/3600, q_loss:0.2499253749847412, rewards:-11.315648735894097, queue:8.3921875, delay:0.13411954243977864, throughput:2921\n",
      "2023-09-05 04:37:45 (INFO): episode:6/20, real avg travel time:468.29936305732485\n",
      "2023-09-05 04:37:59 (INFO): Test step:6/20, travel time :390.61247066711366, rewards:-6.671226671006944, queue:4.896527777777778, delay:0.13154131571451824, throughput:2915\n",
      "2023-09-05 04:39:06 (INFO): step:3600/3600, q_loss:0.2273656576871872, rewards:-6.581688096788194, queue:4.837673611111111, delay:0.12576618194580078, throughput:2925\n",
      "2023-09-05 04:39:06 (INFO): episode:7/20, real avg travel time:389.2433791485082\n",
      "2023-09-05 04:39:20 (INFO): Test step:7/20, travel time :367.7542742205833, rewards:-4.876411946614583, queue:3.5467013888888888, delay:0.12050037384033203, throughput:2924\n",
      "2023-09-05 04:40:28 (INFO): step:3600/3600, q_loss:0.180486261844635, rewards:-4.1587500678168405, queue:3.0118055555555556, delay:0.11585381825764975, throughput:2928\n",
      "2023-09-05 04:40:28 (INFO): episode:8/20, real avg travel time:357.37043245055315\n",
      "2023-09-05 04:40:42 (INFO): Test step:8/20, travel time :379.80522963459606, rewards:-5.630554877387153, queue:4.110069444444444, delay:0.12153726153903538, throughput:2928\n",
      "2023-09-05 04:41:49 (INFO): step:3600/3600, q_loss:0.13241593539714813, rewards:-5.142129177517361, queue:3.7473958333333335, delay:0.11745483610365126, throughput:2926\n",
      "2023-09-05 04:41:49 (INFO): episode:9/20, real avg travel time:373.70834730137443\n",
      "2023-09-05 04:42:03 (INFO): Test step:9/20, travel time :371.615487763996, rewards:-5.068865627712674, queue:3.6991319444444444, delay:0.11543799506293403, throughput:2928\n",
      "2023-09-05 04:43:12 (INFO): step:3600/3600, q_loss:0.10970946401357651, rewards:-4.6974778917100695, queue:3.409201388888889, delay:0.11259521908230252, throughput:2927\n",
      "2023-09-05 04:43:12 (INFO): episode:10/20, real avg travel time:367.04626215219577\n",
      "2023-09-05 04:43:27 (INFO): Test step:10/20, travel time :351.0673818303721, rewards:-3.701574028862847, queue:2.6649305555555554, delay:0.11275171703762478, throughput:2925\n",
      "2023-09-05 04:44:35 (INFO): step:3600/3600, q_loss:0.10244090855121613, rewards:-3.9580084906684028, queue:2.8569444444444443, delay:0.11036841074625652, throughput:2924\n",
      "2023-09-05 04:44:35 (INFO): episode:11/20, real avg travel time:354.5759302715387\n",
      "2023-09-05 04:44:49 (INFO): Test step:11/20, travel time :355.02648340596716, rewards:-3.987754652235243, queue:2.8852430555555557, delay:0.11051606072319878, throughput:2926\n",
      "2023-09-05 04:45:56 (INFO): step:3600/3600, q_loss:0.09979981184005737, rewards:-3.975902642144097, queue:2.876388888888889, delay:0.10845115449693468, throughput:2927\n",
      "2023-09-05 04:45:56 (INFO): episode:12/20, real avg travel time:358.5876634260811\n",
      "2023-09-05 04:46:11 (INFO): Test step:12/20, travel time :354.3533355682199, rewards:-3.9434960259331597, queue:2.8472222222222223, delay:0.11123502519395616, throughput:2926\n",
      "2023-09-05 04:47:19 (INFO): step:3600/3600, q_loss:0.09156329929828644, rewards:-3.5563656277126734, queue:2.5578125, delay:0.11160398059421116, throughput:2925\n",
      "2023-09-05 04:47:19 (INFO): episode:13/20, real avg travel time:349.4606101240362\n",
      "2023-09-05 04:47:33 (INFO): Test step:13/20, travel time :360.859872611465, rewards:-4.194560411241319, queue:3.032986111111111, delay:0.11360047658284506, throughput:2922\n",
      "2023-09-05 04:48:41 (INFO): step:3600/3600, q_loss:0.08171851187944412, rewards:-3.1054168701171876, queue:2.215625, delay:0.10319048563639323, throughput:2925\n",
      "2023-09-05 04:48:41 (INFO): episode:14/20, real avg travel time:342.371102916527\n",
      "2023-09-05 04:48:55 (INFO): Test step:14/20, travel time :346.79316124706673, rewards:-3.359027777777778, queue:2.3994791666666666, delay:0.10437130398220486, throughput:2921\n",
      "2023-09-05 04:50:03 (INFO): step:3600/3600, q_loss:0.06759984791278839, rewards:-3.0530093722873266, queue:2.170659722222222, delay:0.09971197976006402, throughput:2925\n",
      "2023-09-05 04:50:03 (INFO): episode:15/20, real avg travel time:342.0569896077774\n",
      "2023-09-05 04:50:18 (INFO): Test step:15/20, travel time :344.88266845457593, rewards:-3.1999996609157986, queue:2.284548611111111, delay:0.10036612616644966, throughput:2927\n",
      "2023-09-05 04:51:26 (INFO): step:3600/3600, q_loss:0.06258107721805573, rewards:-2.880000474717882, queue:2.0430555555555556, delay:0.09771847195095486, throughput:2930\n",
      "2023-09-05 04:51:26 (INFO): episode:16/20, real avg travel time:339.11498491451556\n",
      "2023-09-05 04:51:40 (INFO): Test step:16/20, travel time :346.7247737177338, rewards:-3.4357401529947915, queue:2.4628472222222224, delay:0.11003612942165798, throughput:2930\n",
      "2023-09-05 04:52:48 (INFO): step:3600/3600, q_loss:0.05396398901939392, rewards:-2.892175971137153, queue:2.0493055555555557, delay:0.09977506001790365, throughput:2928\n",
      "2023-09-05 04:52:48 (INFO): episode:17/20, real avg travel time:339.15722427086826\n",
      "2023-09-05 04:53:02 (INFO): Test step:17/20, travel time :337.80154207173985, rewards:-2.829606458875868, queue:2.0015625, delay:0.09995669258965387, throughput:2927\n",
      "2023-09-05 04:54:10 (INFO): step:3600/3600, q_loss:0.04212481901049614, rewards:-2.965092298719618, queue:2.0993055555555555, delay:0.09620733261108398, throughput:2930\n",
      "2023-09-05 04:54:10 (INFO): episode:18/20, real avg travel time:341.0921890714046\n",
      "2023-09-05 04:54:24 (INFO): Test step:18/20, travel time :342.1035869929601, rewards:-3.0262498643663194, queue:2.1449652777777777, delay:0.09784813986884223, throughput:2929\n",
      "2023-09-05 04:55:32 (INFO): step:3600/3600, q_loss:0.029646359384059906, rewards:-2.9368055555555554, queue:2.0791666666666666, delay:0.09530442555745443, throughput:2930\n",
      "2023-09-05 04:55:32 (INFO): episode:19/20, real avg travel time:340.6376131411331\n",
      "2023-09-05 04:55:47 (INFO): Test step:19/20, travel time :339.1461615822997, rewards:-2.868935139973958, queue:2.029166666666667, delay:0.09552406734890408, throughput:2929\n",
      "2023-09-05 04:56:02 (INFO): Final Travel Time is 339.1462, mean rewards: -2.8689, queue: 2.0292, delay: 0.0955, throughput: 2929\n",
      "2023-09-05 04:56:02 (INFO): Total time taken: 1511.718144416809\n"
     ]
    }
   ],
   "source": [
    "# Change agent to frap, simulator to cityflow and traffic network to hangzhou4x4\n",
    "%run run.py -a frap -w cityflow -n cityflow1x1"
   ]
  },
  {
   "cell_type": "markdown",
   "metadata": {},
   "source": [
    "# 3. Navigation between different settings"
   ]
  },
  {
   "cell_type": "markdown",
   "metadata": {},
   "source": [
    "## 3.1. How can I change the state used in agent?\n",
    "```\n",
    ".\n",
    "└── agent\n",
    "    ├── dqn.py\n",
    "    └── ...\n",
    "```\n",
    "\n",
    "### 3.1.1. Change state of DQN agent into <mark>*lane_pressure*</mark>\n",
    "``` python\n",
    "@Registry.register_model('dqn')\n",
    "class DQNAgent(RLAgent):\n",
    "    '''\n",
    "    DQNAgent determines each intersection's action with its own intersection information.\n",
    "    '''\n",
    "    def __init__(self, world, rank):\n",
    "        super().__init__(world, rank)\n",
    "    \n",
    "    # Change state generator in _create_generators\n",
    "    def _create_generators(self):\n",
    "        # self.ob_generator = LaneVehicleGenerator(self.world, self.inter_obj,\n",
    "        #                                          [\"lane_count\"], in_only=True, average=None)\n",
    "        super()._create_generators()\n",
    "        self.ob_generator = LaneVehicleGenerator(self.world, self.inter_obj,\n",
    "                                                 [\"lane_pressure\"], in_only=True, average=None)\n",
    "```\n",
    "\n",
    "\n",
    "### 3.1.2. Change state of DQN agent into <mark>list of states</mark>\n",
    "``` python\n",
    "@Registry.register_model('dqn')\n",
    "class DQNAgent(RLAgent):\n",
    "    '''\n",
    "    DQNAgent determines each intersection's action with its own intersection information.\n",
    "    '''\n",
    "    def __init__(self, world, rank):\n",
    "        super().__init__(world, rank)\n",
    "    \n",
    "    # Change state generator in _create_generators\n",
    "    def _create_generators(self):\n",
    "        # self.ob_generator = LaneVehicleGenerator(self.world, self.inter_obj,\n",
    "        #                                          [\"lane_count\"], in_only=True, average=None)\n",
    "        super()._create_generators()\n",
    "        self.ob_generator = [LaneVehicleGenerator(self.world, self.inter_obj,\n",
    "                                                 [\"lane_pressure\"], in_only=True, average=None),\n",
    "                             LaneVehicleGenerator(self.world, self.inter_obj,\n",
    "                                                 [\"lane_count\"], in_only=True, average=None)\n",
    "        ]\n",
    "```"
   ]
  },
  {
   "cell_type": "markdown",
   "metadata": {},
   "source": [
    "### 3.1.3. Set <mark>--prefix</mark> parameter to specify directory to store data."
   ]
  },
  {
   "cell_type": "code",
   "execution_count": 1,
   "metadata": {},
   "outputs": [
    {
     "name": "stdout",
     "output_type": "stream",
     "text": [
      "building world...\n",
      "creating intersections...\n",
      "intersections created.\n",
      "parsing roads...\n",
      "roads parsed.\n",
      "world built.\n",
      "DQNNet(\n",
      "  (dense_1): Linear(in_features=32, out_features=20, bias=True)\n",
      "  (dense_2): Linear(in_features=20, out_features=20, bias=True)\n",
      "  (dense_3): Linear(in_features=20, out_features=8, bias=True)\n",
      ")\n",
      "2023-09-18 19:59:46 (INFO): step:3600/3600, q_loss:0, rewards:-22.642914496527776, queue:1.408463372124566, delay:0.12097083197699653, throughput:2392\n",
      "2023-09-18 19:59:46 (INFO): episode:0/20, real avg travel time:743.6885685551458\n",
      "2023-09-18 19:59:55 (INFO): Test step:0/20, travel time :1478.619510559839, rewards:-76.1610134548611, queue:4.769748942057292, delay:0.20459539625379775, throughput:1117\n",
      "2023-09-18 20:00:01 (INFO): step:3600/3600, q_loss:0, rewards:-20.170924207899304, queue:1.2534141540527344, delay:0.12317438125610351, throughput:2464\n",
      "2023-09-18 20:00:01 (INFO): episode:1/20, real avg travel time:695.4596044250754\n",
      "2023-09-18 20:00:09 (INFO): Test step:1/20, travel time :1478.619510559839, rewards:-76.1610134548611, queue:4.769748942057292, delay:0.20459539625379775, throughput:1117\n",
      "2023-09-18 20:00:16 (INFO): step:3600/3600, q_loss:0.2337280958890915, rewards:-22.32569580078125, queue:1.3887153625488282, delay:0.1406873491075304, throughput:2566\n",
      "2023-09-18 20:00:16 (INFO): episode:2/20, real avg travel time:736.3137780757627\n",
      "2023-09-18 20:00:23 (INFO): Test step:2/20, travel time :1190.8568555145825, rewards:-57.92245551215278, queue:3.627821519639757, delay:0.2544949001736111, throughput:2063\n",
      "2023-09-18 20:00:36 (INFO): step:3600/3600, q_loss:0.06945908814668655, rewards:-12.344255913628473, queue:0.7641201443142361, delay:0.17166898515489365, throughput:2895\n",
      "2023-09-18 20:00:36 (INFO): episode:3/20, real avg travel time:477.312101910828\n",
      "2023-09-18 20:00:42 (INFO): Test step:3/20, travel time :525.013744552464, rewards:-17.559537760416667, queue:1.093605211046007, delay:0.1980882856580946, throughput:2742\n",
      "2023-09-18 20:00:54 (INFO): step:3600/3600, q_loss:0.06695017218589783, rewards:-8.180487738715279, queue:0.5029514312744141, delay:0.14110065036349825, throughput:2897\n",
      "2023-09-18 20:00:54 (INFO): episode:4/20, real avg travel time:411.9379818974187\n",
      "2023-09-18 20:01:01 (INFO): Test step:4/20, travel time :587.1756620851492, rewards:-22.575162760416667, queue:1.4091148376464844, delay:0.18063952128092448, throughput:2838\n",
      "2023-09-18 20:01:13 (INFO): step:3600/3600, q_loss:0.06679058820009232, rewards:-4.284930419921875, queue:0.2584345923529731, delay:0.12077224519517686, throughput:2913\n",
      "2023-09-18 20:01:13 (INFO): episode:5/20, real avg travel time:356.86490110626886\n",
      "2023-09-18 20:01:20 (INFO): Test step:5/20, travel time :504.02614817298024, rewards:-16.505948893229167, queue:1.0280960083007813, delay:0.149431398179796, throughput:2814\n",
      "2023-09-18 20:01:32 (INFO): step:3600/3600, q_loss:0.0574321523308754, rewards:-3.437893337673611, queue:0.20477432674831814, delay:0.1053603384229872, throughput:2925\n",
      "2023-09-18 20:01:32 (INFO): episode:6/20, real avg travel time:345.1796848809923\n",
      "2023-09-18 20:01:38 (INFO): Test step:6/20, travel time :364.01877304726787, rewards:-4.77680426703559, queue:0.29000286526150176, delay:0.1162089983622233, throughput:2921\n",
      "2023-09-18 20:01:50 (INFO): step:3600/3600, q_loss:0.04776099696755409, rewards:-3.3962727864583333, queue:0.20193865034315323, delay:0.10709773169623481, throughput:2929\n",
      "2023-09-18 20:01:50 (INFO): episode:7/20, real avg travel time:345.1937646664432\n",
      "2023-09-18 20:01:56 (INFO): Test step:7/20, travel time :344.4076433121019, rewards:-3.32164306640625, queue:0.19758394029405382, delay:0.10827484130859374, throughput:2929\n",
      "2023-09-18 20:02:08 (INFO): step:3600/3600, q_loss:0.04370315372943878, rewards:-2.997661675347222, queue:0.17738714218139648, delay:0.09927669101291232, throughput:2931\n",
      "2023-09-18 20:02:08 (INFO): episode:8/20, real avg travel time:339.54307743882\n",
      "2023-09-18 20:02:14 (INFO): Test step:8/20, travel time :340.97720415688906, rewards:-3.098519219292535, queue:0.18382521735297308, delay:0.10218459235297309, throughput:2928\n",
      "2023-09-18 20:02:26 (INFO): step:3600/3600, q_loss:0.03938104584813118, rewards:-2.832036675347222, queue:0.16712964375813802, delay:0.09506763882107205, throughput:2927\n",
      "2023-09-18 20:02:26 (INFO): episode:9/20, real avg travel time:337.2598055648676\n",
      "2023-09-18 20:02:32 (INFO): Test step:9/20, travel time :346.09587663426083, rewards:-3.4128238254123264, queue:0.20332756042480468, delay:0.10205147001478407, throughput:2929\n",
      "2023-09-18 20:02:44 (INFO): step:3600/3600, q_loss:0.03764159977436066, rewards:-2.8228936089409724, queue:0.16618921491834854, delay:0.09665754106309679, throughput:2929\n",
      "2023-09-18 20:02:44 (INFO): episode:10/20, real avg travel time:336.65135769359705\n",
      "2023-09-18 20:02:50 (INFO): Test step:10/20, travel time :339.07609788803217, rewards:-2.9883097330729167, queue:0.1765914175245497, delay:0.0953402943081326, throughput:2926\n",
      "2023-09-18 20:03:02 (INFO): step:3600/3600, q_loss:0.036097701638936996, rewards:-2.7466895209418403, queue:0.16118343141343858, delay:0.0881823804643419, throughput:2931\n",
      "2023-09-18 20:03:02 (INFO): episode:11/20, real avg travel time:336.434461951056\n",
      "2023-09-18 20:03:08 (INFO): Test step:11/20, travel time :336.8806570566544, rewards:-2.8033101399739584, queue:0.16507525973849826, delay:0.09054328070746528, throughput:2931\n",
      "2023-09-18 20:03:20 (INFO): step:3600/3600, q_loss:0.03454666584730148, rewards:-2.674305725097656, queue:0.15732061598036023, delay:0.09032904307047526, throughput:2929\n",
      "2023-09-18 20:03:20 (INFO): episode:12/20, real avg travel time:335.3637277908146\n",
      "2023-09-18 20:03:26 (INFO): Test step:12/20, travel time :344.34730137445524, rewards:-3.2901618109809028, queue:0.1952835930718316, delay:0.09562873840332031, throughput:2926\n",
      "2023-09-18 20:03:38 (INFO): step:3600/3600, q_loss:0.03136945143342018, rewards:-2.5130323621961805, queue:0.14658563401963975, delay:0.08750814861721462, throughput:2929\n",
      "2023-09-18 20:03:38 (INFO): episode:13/20, real avg travel time:332.5665437479048\n",
      "2023-09-18 20:03:44 (INFO): Test step:13/20, travel time :339.33825008380825, rewards:-2.9568057590060763, queue:0.1746093538072374, delay:0.09306452009412977, throughput:2922\n",
      "2023-09-18 20:03:57 (INFO): step:3600/3600, q_loss:0.0278933048248291, rewards:-2.408101569281684, queue:0.14052369859483507, delay:0.08599714703030056, throughput:2933\n",
      "2023-09-18 20:03:57 (INFO): episode:14/20, real avg travel time:331.2919879316125\n",
      "2023-09-18 20:04:03 (INFO): Test step:14/20, travel time :337.9292658397586, rewards:-2.87013922797309, queue:0.16925640106201173, delay:0.09229718314276801, throughput:2931\n",
      "2023-09-18 20:04:16 (INFO): step:3600/3600, q_loss:0.022943872958421707, rewards:-2.5843517727322047, queue:0.15130207273695204, delay:0.08725959989759657, throughput:2927\n",
      "2023-09-18 20:04:16 (INFO): episode:15/20, real avg travel time:334.04559168622194\n",
      "2023-09-18 20:04:22 (INFO): Test step:15/20, travel time :333.33020449212205, rewards:-2.5468512641059027, queue:0.14937786526150174, delay:0.08928080664740669, throughput:2931\n",
      "2023-09-18 20:04:35 (INFO): step:3600/3600, q_loss:0.016452379524707794, rewards:-2.5153013441297745, queue:0.1470920138888889, delay:0.08496348592970106, throughput:2929\n",
      "2023-09-18 20:04:35 (INFO): episode:16/20, real avg travel time:333.12504190412335\n",
      "2023-09-18 20:04:41 (INFO): Test step:16/20, travel time :334.31813610459267, rewards:-2.5785880194769963, queue:0.1501736005147298, delay:0.08809437221950955, throughput:2930\n",
      "2023-09-18 20:04:53 (INFO): step:3600/3600, q_loss:0.011532002128660679, rewards:-2.4269677056206596, queue:0.14133391910129123, delay:0.08531742095947266, throughput:2931\n",
      "2023-09-18 20:04:53 (INFO): episode:17/20, real avg travel time:331.36842105263156\n",
      "2023-09-18 20:04:59 (INFO): Test step:17/20, travel time :335.21622527656723, rewards:-2.6376388549804686, queue:0.1546874894036187, delay:0.08808836407131619, throughput:2931\n",
      "2023-09-18 20:05:11 (INFO): step:3600/3600, q_loss:0.00940504390746355, rewards:-2.3187730577256946, queue:0.13502602047390408, delay:0.08079606162177191, throughput:2930\n",
      "2023-09-18 20:05:11 (INFO): episode:18/20, real avg travel time:330.35132417029837\n",
      "2023-09-18 20:05:17 (INFO): Test step:18/20, travel time :330.9111632584646, rewards:-2.332106526692708, queue:0.13479458491007487, delay:0.08074512481689453, throughput:2933\n",
      "2023-09-18 20:05:29 (INFO): step:3600/3600, q_loss:0.008041555061936378, rewards:-2.2263424343532985, queue:0.12925346162584092, delay:0.07713578542073568, throughput:2929\n",
      "2023-09-18 20:05:29 (INFO): episode:19/20, real avg travel time:329.21421387864564\n",
      "2023-09-18 20:05:36 (INFO): Test step:19/20, travel time :337.3020449212203, rewards:-2.954768541124132, queue:0.17552084392971462, delay:0.09203832414415147, throughput:2929\n",
      "2023-09-18 20:05:42 (INFO): Final Travel Time is 337.3020, mean rewards: -2.9548, queue: 0.1755, delay: 0.0920, throughput: 2929\n",
      "2023-09-18 20:05:42 (INFO): Total time taken: 362.41566252708435\n"
     ]
    }
   ],
   "source": [
    "# set predix parameter to specify directory to store data.\n",
    "%run run.py -a dqn_states --prefix states-lp-lc"
   ]
  },
  {
   "cell_type": "markdown",
   "metadata": {},
   "source": [
    "## 3.2. How can I change the reward used in agent?\n",
    "\n",
    "```\n",
    ".\n",
    "└── agent\n",
    "    ├── dqn.py\n",
    "    └── ...\n",
    "```\n",
    "### 3.2.1 Change reward of DQN agent into <mark>*pressure*</mark>\n",
    "``` python\n",
    "def _create_generators(self):\n",
    "    super()._create_generators()\n",
    "    # self.reward_generator = LaneVehicleGenerator(self.world, self.inter_obj,\n",
    "    self.reward_generator = LaneVehicleGenerator(self.world, self.inter_obj,\n",
    "                                                 [\"pressure\"], \n",
    "                                                 in_only=True,average=\"all\",\n",
    "                                                 negative=True)\n",
    "```"
   ]
  },
  {
   "cell_type": "code",
   "execution_count": 2,
   "metadata": {},
   "outputs": [
    {
     "name": "stdout",
     "output_type": "stream",
     "text": [
      "building world...\n",
      "creating intersections...\n",
      "intersections created.\n",
      "parsing roads...\n",
      "roads parsed.\n",
      "world built.\n",
      "DQNNet(\n",
      "  (dense_1): Linear(in_features=20, out_features=20, bias=True)\n",
      "  (dense_2): Linear(in_features=20, out_features=20, bias=True)\n",
      "  (dense_3): Linear(in_features=20, out_features=8, bias=True)\n",
      ")\n",
      "2023-09-18 21:23:32 (INFO): step:3600/3600, q_loss:0, rewards:-217.69861111111112, queue:1.2741753472222221, delay:0.1255783822801378, throughput:2414\n",
      "2023-09-18 21:23:32 (INFO): episode:0/20, real avg travel time:698.461615822997\n",
      "2023-09-18 21:23:41 (INFO): Test step:0/20, travel time :1485.71974522293, rewards:-545.0900173611111, queue:4.2778944227430555, delay:0.2029150644938151, throughput:1466\n",
      "2023-09-18 21:23:47 (INFO): step:3600/3600, q_loss:0, rewards:-235.6816623263889, queue:1.3474968804253473, delay:0.12669075859917533, throughput:2421\n",
      "2023-09-18 21:23:47 (INFO): episode:1/20, real avg travel time:722.1193429433456\n",
      "2023-09-18 21:23:55 (INFO): Test step:1/20, travel time :1485.71974522293, rewards:-545.0900173611111, queue:4.2778944227430555, delay:0.2029150644938151, throughput:1466\n",
      "2023-09-18 21:24:03 (INFO): step:3600/3600, q_loss:102.21141052246094, rewards:-251.22222222222223, queue:1.4985677083333333, delay:0.14612514707777235, throughput:2311\n",
      "2023-09-18 21:24:03 (INFO): episode:2/20, real avg travel time:745.1049279249078\n",
      "2023-09-18 21:24:11 (INFO): Test step:2/20, travel time :1525.262152195776, rewards:-459.97669270833336, queue:5.086038547092014, delay:0.24147508409288193, throughput:1622\n",
      "2023-09-18 21:24:24 (INFO): step:3600/3600, q_loss:49.565311431884766, rewards:-389.3803385416667, queue:3.4690819634331596, delay:0.23993271721733941, throughput:2297\n",
      "2023-09-18 21:24:24 (INFO): episode:3/20, real avg travel time:1285.189406637613\n",
      "2023-09-18 21:24:32 (INFO): Test step:3/20, travel time :1231.0060341937647, rewards:-422.2351996527778, queue:4.288425021701389, delay:0.28043700324164494, throughput:2045\n",
      "2023-09-18 21:24:45 (INFO): step:3600/3600, q_loss:22.997629165649414, rewards:-178.14720052083334, queue:3.1346927218967013, delay:0.2708257887098524, throughput:2784\n",
      "2023-09-18 21:24:45 (INFO): episode:4/20, real avg travel time:969.1424740194435\n",
      "2023-09-18 21:24:53 (INFO): Test step:4/20, travel time :1018.7710358699296, rewards:-208.88359375, queue:3.473263210720486, delay:0.2880581749810113, throughput:2523\n",
      "2023-09-18 21:25:07 (INFO): step:3600/3600, q_loss:33.38079833984375, rewards:-114.25335286458333, queue:2.676042005750868, delay:0.27367477416992186, throughput:2777\n",
      "2023-09-18 21:25:07 (INFO): episode:5/20, real avg travel time:870.5551458263493\n",
      "2023-09-18 21:25:16 (INFO): Test step:5/20, travel time :1075.2846128059, rewards:-297.74696180555554, queue:3.7578409830729167, delay:0.2815614488389757, throughput:2368\n",
      "2023-09-18 21:25:29 (INFO): step:3600/3600, q_loss:41.820045471191406, rewards:-131.00113932291666, queue:2.5326392279730903, delay:0.2476967281765408, throughput:2827\n",
      "2023-09-18 21:25:29 (INFO): episode:6/20, real avg travel time:831.7683540060342\n",
      "2023-09-18 21:25:37 (INFO): Test step:6/20, travel time :1030.154207173986, rewards:-317.01280381944446, queue:3.55445556640625, delay:0.27773509555392795, throughput:2321\n",
      "2023-09-18 21:25:50 (INFO): step:3600/3600, q_loss:45.82474899291992, rewards:-83.64529079861111, queue:2.539656236436632, delay:0.2735481050279405, throughput:2839\n",
      "2023-09-18 21:25:50 (INFO): episode:7/20, real avg travel time:831.9708347301374\n",
      "2023-09-18 21:25:58 (INFO): Test step:7/20, travel time :1023.0335232986926, rewards:-115.93756510416667, queue:3.5327246771918404, delay:0.2949768490261502, throughput:2684\n",
      "2023-09-18 21:26:11 (INFO): step:3600/3600, q_loss:47.61051559448242, rewards:-61.58223198784722, queue:2.5285736083984376, delay:0.2722885979546441, throughput:2904\n",
      "2023-09-18 21:26:11 (INFO): episode:8/20, real avg travel time:837.0670465973852\n",
      "2023-09-18 21:26:19 (INFO): Test step:8/20, travel time :922.7894736842105, rewards:-125.63971354166667, queue:3.0264322916666666, delay:0.293689939710829, throughput:2769\n",
      "2023-09-18 21:26:32 (INFO): step:3600/3600, q_loss:50.702613830566406, rewards:-57.942220052083336, queue:2.3654798719618055, delay:0.2638027826944987, throughput:2896\n",
      "2023-09-18 21:26:32 (INFO): episode:9/20, real avg travel time:796.2879651357694\n",
      "2023-09-18 21:26:39 (INFO): Test step:9/20, travel time :860.796178343949, rewards:-79.70832248263889, queue:2.70758056640625, delay:0.2802565680609809, throughput:2872\n",
      "2023-09-18 21:26:53 (INFO): step:3600/3600, q_loss:52.75714874267578, rewards:-52.18165690104167, queue:2.2411312527126737, delay:0.2642023510403103, throughput:2899\n",
      "2023-09-18 21:26:53 (INFO): episode:10/20, real avg travel time:773.5487763995977\n",
      "2023-09-18 21:27:01 (INFO): Test step:10/20, travel time :818.2356687898089, rewards:-81.58640407986111, queue:2.479253472222222, delay:0.28083551194932727, throughput:2847\n",
      "2023-09-18 21:27:15 (INFO): step:3600/3600, q_loss:51.73765182495117, rewards:-55.001378038194446, queue:2.1531975640190972, delay:0.2652491251627604, throughput:2891\n",
      "2023-09-18 21:27:15 (INFO): episode:11/20, real avg travel time:752.9996647670131\n",
      "2023-09-18 21:27:22 (INFO): Test step:11/20, travel time :789.1873952396916, rewards:-90.02029079861111, queue:2.3636576334635415, delay:0.2830966525607639, throughput:2798\n",
      "2023-09-18 21:27:35 (INFO): step:3600/3600, q_loss:49.793174743652344, rewards:-57.14113498263889, queue:2.0290652804904514, delay:0.2536400689019097, throughput:2859\n",
      "2023-09-18 21:27:35 (INFO): episode:12/20, real avg travel time:724.0425745893396\n",
      "2023-09-18 21:27:42 (INFO): Test step:12/20, travel time :824.1813610459269, rewards:-114.59135199652778, queue:2.55293697781033, delay:0.28021305931939017, throughput:2743\n",
      "2023-09-18 21:27:55 (INFO): step:3600/3600, q_loss:48.147281646728516, rewards:-63.77082248263889, queue:1.8853302001953125, delay:0.25307335323757596, throughput:2867\n",
      "2023-09-18 21:27:55 (INFO): episode:13/20, real avg travel time:693.7207509218907\n",
      "2023-09-18 21:28:02 (INFO): Test step:13/20, travel time :802.1924237344955, rewards:-62.08776041666667, queue:2.4128909640842013, delay:0.2696556091308594, throughput:2868\n",
      "2023-09-18 21:28:16 (INFO): step:3600/3600, q_loss:48.31751251220703, rewards:-55.79334309895833, queue:1.904774136013455, delay:0.24008055792914496, throughput:2875\n",
      "2023-09-18 21:28:16 (INFO): episode:14/20, real avg travel time:701.936640965471\n",
      "2023-09-18 21:28:23 (INFO): Test step:14/20, travel time :794.7361716392893, rewards:-107.7047092013889, queue:2.4039064195421007, delay:0.2712449391682943, throughput:2782\n",
      "2023-09-18 21:28:38 (INFO): step:3600/3600, q_loss:48.366214752197266, rewards:-56.512478298611114, queue:1.8106336805555556, delay:0.2393365224202474, throughput:2895\n",
      "2023-09-18 21:28:38 (INFO): episode:15/20, real avg travel time:680.1897418706001\n",
      "2023-09-18 21:28:46 (INFO): Test step:15/20, travel time :709.9497150519611, rewards:-58.42136501736111, queue:1.9669269137912326, delay:0.26290450625949435, throughput:2879\n",
      "2023-09-18 21:29:00 (INFO): step:3600/3600, q_loss:47.497535705566406, rewards:-53.16722005208333, queue:1.6426506890190973, delay:0.2433300230238173, throughput:2895\n",
      "2023-09-18 21:29:00 (INFO): episode:16/20, real avg travel time:645.3992624874288\n",
      "2023-09-18 21:29:07 (INFO): Test step:16/20, travel time :933.8286959436808, rewards:-162.03001302083334, queue:2.7488128662109377, delay:0.2640480677286784, throughput:2486\n",
      "2023-09-18 21:29:20 (INFO): step:3600/3600, q_loss:46.86793518066406, rewards:-64.32305772569444, queue:1.5267069498697916, delay:0.23979979621039496, throughput:2873\n",
      "2023-09-18 21:29:20 (INFO): episode:17/20, real avg travel time:621.791820315119\n",
      "2023-09-18 21:29:28 (INFO): Test step:17/20, travel time :953.9326181696279, rewards:-194.73194444444445, queue:2.615408664279514, delay:0.24192801581488715, throughput:2424\n",
      "2023-09-18 21:29:43 (INFO): step:3600/3600, q_loss:45.30076217651367, rewards:-92.02610677083334, queue:1.648582288953993, delay:0.230403561062283, throughput:2880\n",
      "2023-09-18 21:29:43 (INFO): episode:18/20, real avg travel time:661.3942339926249\n",
      "2023-09-18 21:29:50 (INFO): Test step:18/20, travel time :943.4934629567549, rewards:-245.3871310763889, queue:2.9442423502604167, delay:0.2526874542236328, throughput:2410\n",
      "2023-09-18 21:30:03 (INFO): step:3600/3600, q_loss:45.23991775512695, rewards:-65.81223415798611, queue:1.579384019639757, delay:0.23924327426486544, throughput:2893\n",
      "2023-09-18 21:30:03 (INFO): episode:19/20, real avg travel time:639.6168286959437\n",
      "2023-09-18 21:30:10 (INFO): Test step:19/20, travel time :701.2970164264163, rewards:-95.10057508680555, queue:1.915711636013455, delay:0.25638448927137586, throughput:2822\n",
      "2023-09-18 21:30:18 (INFO): Final Travel Time is 701.2970, mean rewards: -95.1006, queue: 1.9157, delay: 0.2564, throughput: 2822\n",
      "2023-09-18 21:30:18 (INFO): Total time taken: 412.65581345558167\n"
     ]
    }
   ],
   "source": [
    "%run run.py -a dqn_rewards --prefix reward-ps"
   ]
  },
  {
   "cell_type": "markdown",
   "metadata": {},
   "source": [
    "## 3.3. How can I change the action used in agent?\n",
    "\n",
    "### 3.3.1. Base class of flexible traffic signal control (tscfx)\n",
    "\n",
    "To <mark>control phase and duration at the same time</mark>, user should change -task argument into **\"tscfx\"** and assign agents inherent from Base class **RLFXAgent**.\n",
    "\n",
    "```\n",
    ".\n",
    "├── agent\n",
    "│   ├── rlfx_agent.py\n",
    "│   └── ...\n",
    "├── configs\n",
    "│   ├── tscfx\n",
    "│   │    ├──rlfx.yml\n",
    "│   │    └── ...\n",
    "└── trainer\n",
    "    ├── tscfx_trainer.py\n",
    "    └── ...\n",
    "```\n",
    "\n",
    "**RLFXAgent** should have *duration_units*/ *duration_unit* and *duration_spaces*/ *duration_spaces* and *duration_min*, since these parameters tells agents the duration action space.\n",
    "<div align=\"left\">\n",
    "<img src=\"./tutorial/images/actions.png\" width=\"80%\">\n",
    "</div>\n",
    "\n",
    "\n",
    "We provide a <mark>flexible agent with fixed duration action space</mark>, users could build their own agent upon it."
   ]
  },
  {
   "cell_type": "code",
   "execution_count": 1,
   "metadata": {},
   "outputs": [
    {
     "name": "stdout",
     "output_type": "stream",
     "text": [
      "building world...\n",
      "creating intersections...\n",
      "intersections created.\n",
      "parsing roads...\n",
      "roads parsed.\n",
      "world built.\n",
      "<agent.rlfx_agent.RLFXAgent object at 0x7f968bf8dc70>\n",
      "2023-09-18 21:53:06 (INFO): Final Travel Time is 733.4992, mean rewards: -26.0866, queue: 19.6204, delay: 0.1898, throughput: 2689\n",
      "2023-09-18 21:53:06 (INFO): Total time taken: 6.1096274852752686\n"
     ]
    }
   ],
   "source": [
    "%run run.py -t tscfx -a rlfx"
   ]
  },
  {
   "cell_type": "markdown",
   "metadata": {},
   "source": [
    "## 3.4. What if I want to use another simulator?"
   ]
  },
  {
   "cell_type": "code",
   "execution_count": 2,
   "metadata": {},
   "outputs": [
    {
     "name": "stdout",
     "output_type": "stream",
     "text": [
      "building world...\n",
      "Connection ID hangzhou_1x1_bc-tyc_18041610_1h-debug\n"
     ]
    },
    {
     "ename": "Exception",
     "evalue": "Info function lane_pressure not implemented",
     "output_type": "error",
     "traceback": [
      "\u001b[0;31m---------------------------------------------------------------------------\u001b[0m",
      "\u001b[0;31mException\u001b[0m                                 Traceback (most recent call last)",
      "File \u001b[0;32m~/work/LibSignal/run.py:82\u001b[0m\n\u001b[1;32m     80\u001b[0m \u001b[39mif\u001b[39;00m \u001b[39m__name__\u001b[39m \u001b[39m==\u001b[39m \u001b[39m'\u001b[39m\u001b[39m__main__\u001b[39m\u001b[39m'\u001b[39m:\n\u001b[1;32m     81\u001b[0m     test \u001b[39m=\u001b[39m Runner(args)\n\u001b[0;32m---> 82\u001b[0m     test\u001b[39m.\u001b[39;49mrun()\n",
      "File \u001b[0;32m~/work/LibSignal/run.py:71\u001b[0m, in \u001b[0;36mRunner.run\u001b[0;34m(self)\u001b[0m\n\u001b[1;32m     69\u001b[0m \u001b[39mdef\u001b[39;00m \u001b[39mrun\u001b[39m(\u001b[39mself\u001b[39m):\n\u001b[1;32m     70\u001b[0m     logger \u001b[39m=\u001b[39m setup_logging(logging_level)\n\u001b[0;32m---> 71\u001b[0m     \u001b[39mself\u001b[39m\u001b[39m.\u001b[39mtrainer \u001b[39m=\u001b[39m Registry\u001b[39m.\u001b[39;49mmapping[\u001b[39m'\u001b[39;49m\u001b[39mtrainer_mapping\u001b[39;49m\u001b[39m'\u001b[39;49m]\\\n\u001b[1;32m     72\u001b[0m         [Registry\u001b[39m.\u001b[39;49mmapping[\u001b[39m'\u001b[39;49m\u001b[39mcommand_mapping\u001b[39;49m\u001b[39m'\u001b[39;49m][\u001b[39m'\u001b[39;49m\u001b[39msetting\u001b[39;49m\u001b[39m'\u001b[39;49m]\u001b[39m.\u001b[39;49mparam[\u001b[39m'\u001b[39;49m\u001b[39mtask\u001b[39;49m\u001b[39m'\u001b[39;49m]](logger)\n\u001b[1;32m     73\u001b[0m     \u001b[39mself\u001b[39m\u001b[39m.\u001b[39mtask \u001b[39m=\u001b[39m Registry\u001b[39m.\u001b[39mmapping[\u001b[39m'\u001b[39m\u001b[39mtask_mapping\u001b[39m\u001b[39m'\u001b[39m]\\\n\u001b[1;32m     74\u001b[0m         [Registry\u001b[39m.\u001b[39mmapping[\u001b[39m'\u001b[39m\u001b[39mcommand_mapping\u001b[39m\u001b[39m'\u001b[39m][\u001b[39m'\u001b[39m\u001b[39msetting\u001b[39m\u001b[39m'\u001b[39m]\u001b[39m.\u001b[39mparam[\u001b[39m'\u001b[39m\u001b[39mtask\u001b[39m\u001b[39m'\u001b[39m]](\u001b[39mself\u001b[39m\u001b[39m.\u001b[39mtrainer)\n\u001b[1;32m     75\u001b[0m     start_time \u001b[39m=\u001b[39m time\u001b[39m.\u001b[39mtime()\n",
      "File \u001b[0;32m~/work/LibSignal/trainer/tsc_trainer.py:22\u001b[0m, in \u001b[0;36mTSCTrainer.__init__\u001b[0;34m(self, logger, gpu, cpu, name)\u001b[0m\n\u001b[1;32m     15\u001b[0m \u001b[39mdef\u001b[39;00m \u001b[39m__init__\u001b[39m(\n\u001b[1;32m     16\u001b[0m     \u001b[39mself\u001b[39m,\n\u001b[1;32m     17\u001b[0m     logger,\n\u001b[0;32m   (...)\u001b[0m\n\u001b[1;32m     20\u001b[0m     name\u001b[39m=\u001b[39m\u001b[39m\"\u001b[39m\u001b[39mtsc\u001b[39m\u001b[39m\"\u001b[39m\n\u001b[1;32m     21\u001b[0m ):\n\u001b[0;32m---> 22\u001b[0m     \u001b[39msuper\u001b[39;49m()\u001b[39m.\u001b[39;49m\u001b[39m__init__\u001b[39;49m(\n\u001b[1;32m     23\u001b[0m         logger\u001b[39m=\u001b[39;49mlogger,\n\u001b[1;32m     24\u001b[0m         gpu\u001b[39m=\u001b[39;49mgpu,\n\u001b[1;32m     25\u001b[0m         cpu\u001b[39m=\u001b[39;49mcpu,\n\u001b[1;32m     26\u001b[0m         name\u001b[39m=\u001b[39;49mname\n\u001b[1;32m     27\u001b[0m     )\n\u001b[1;32m     28\u001b[0m     \u001b[39mself\u001b[39m\u001b[39m.\u001b[39mepisodes \u001b[39m=\u001b[39m Registry\u001b[39m.\u001b[39mmapping[\u001b[39m'\u001b[39m\u001b[39mtrainer_mapping\u001b[39m\u001b[39m'\u001b[39m][\u001b[39m'\u001b[39m\u001b[39msetting\u001b[39m\u001b[39m'\u001b[39m]\u001b[39m.\u001b[39mparam[\u001b[39m'\u001b[39m\u001b[39mepisodes\u001b[39m\u001b[39m'\u001b[39m]\n\u001b[1;32m     29\u001b[0m     \u001b[39mself\u001b[39m\u001b[39m.\u001b[39msteps \u001b[39m=\u001b[39m Registry\u001b[39m.\u001b[39mmapping[\u001b[39m'\u001b[39m\u001b[39mtrainer_mapping\u001b[39m\u001b[39m'\u001b[39m][\u001b[39m'\u001b[39m\u001b[39msetting\u001b[39m\u001b[39m'\u001b[39m]\u001b[39m.\u001b[39mparam[\u001b[39m'\u001b[39m\u001b[39msteps\u001b[39m\u001b[39m'\u001b[39m]\n",
      "File \u001b[0;32m~/work/LibSignal/trainer/base_trainer.py:48\u001b[0m, in \u001b[0;36mBaseTrainer.__init__\u001b[0;34m(self, logger, gpu, cpu, name)\u001b[0m\n\u001b[1;32m     45\u001b[0m     \u001b[39mself\u001b[39m\u001b[39m.\u001b[39mcpu \u001b[39m=\u001b[39m \u001b[39mTrue\u001b[39;00m\n\u001b[1;32m     47\u001b[0m \u001b[39mself\u001b[39m\u001b[39m.\u001b[39mload()\n\u001b[0;32m---> 48\u001b[0m \u001b[39mself\u001b[39;49m\u001b[39m.\u001b[39;49mcreate()\n",
      "File \u001b[0;32m~/work/LibSignal/trainer/base_trainer.py:108\u001b[0m, in \u001b[0;36mBaseTrainer.create\u001b[0;34m(self)\u001b[0m\n\u001b[1;32m    100\u001b[0m \u001b[39m\u001b[39m\u001b[39m'''\u001b[39;00m\n\u001b[1;32m    101\u001b[0m \u001b[39mcreate\u001b[39;00m\n\u001b[1;32m    102\u001b[0m \u001b[39mCreate world, agents, metric and environment before training process.\u001b[39;00m\n\u001b[0;32m   (...)\u001b[0m\n\u001b[1;32m    105\u001b[0m \u001b[39m:return: None\u001b[39;00m\n\u001b[1;32m    106\u001b[0m \u001b[39m'''\u001b[39;00m\n\u001b[1;32m    107\u001b[0m \u001b[39mself\u001b[39m\u001b[39m.\u001b[39mcreate_world()\n\u001b[0;32m--> 108\u001b[0m \u001b[39mself\u001b[39;49m\u001b[39m.\u001b[39;49mcreate_agents()\n\u001b[1;32m    109\u001b[0m \u001b[39mself\u001b[39m\u001b[39m.\u001b[39mcreate_metrics()\n\u001b[1;32m    110\u001b[0m \u001b[39mself\u001b[39m\u001b[39m.\u001b[39mcreate_env()\n",
      "File \u001b[0;32m~/work/LibSignal/trainer/tsc_trainer.py:91\u001b[0m, in \u001b[0;36mTSCTrainer.create_agents\u001b[0;34m(self)\u001b[0m\n\u001b[1;32m     83\u001b[0m \u001b[39m\u001b[39m\u001b[39m'''\u001b[39;00m\n\u001b[1;32m     84\u001b[0m \u001b[39mcreate_agents\u001b[39;00m\n\u001b[1;32m     85\u001b[0m \u001b[39mCreate agents for traffic signal control tasks.\u001b[39;00m\n\u001b[0;32m   (...)\u001b[0m\n\u001b[1;32m     88\u001b[0m \u001b[39m:return: None\u001b[39;00m\n\u001b[1;32m     89\u001b[0m \u001b[39m'''\u001b[39;00m\n\u001b[1;32m     90\u001b[0m \u001b[39mself\u001b[39m\u001b[39m.\u001b[39magents \u001b[39m=\u001b[39m []\n\u001b[0;32m---> 91\u001b[0m agent \u001b[39m=\u001b[39m Registry\u001b[39m.\u001b[39;49mmapping[\u001b[39m'\u001b[39;49m\u001b[39mmodel_mapping\u001b[39;49m\u001b[39m'\u001b[39;49m][Registry\u001b[39m.\u001b[39;49mmapping[\u001b[39m'\u001b[39;49m\u001b[39mcommand_mapping\u001b[39;49m\u001b[39m'\u001b[39;49m][\u001b[39m'\u001b[39;49m\u001b[39msetting\u001b[39;49m\u001b[39m'\u001b[39;49m]\u001b[39m.\u001b[39;49mparam[\u001b[39m'\u001b[39;49m\u001b[39magent\u001b[39;49m\u001b[39m'\u001b[39;49m]](\u001b[39mself\u001b[39;49m\u001b[39m.\u001b[39;49mworld, \u001b[39m0\u001b[39;49m)\n\u001b[1;32m     92\u001b[0m \u001b[39mprint\u001b[39m(agent)\n\u001b[1;32m     93\u001b[0m num_agent \u001b[39m=\u001b[39m \u001b[39mint\u001b[39m(\u001b[39mlen\u001b[39m(\u001b[39mself\u001b[39m\u001b[39m.\u001b[39mworld\u001b[39m.\u001b[39mintersections) \u001b[39m/\u001b[39m agent\u001b[39m.\u001b[39msub_agents)\n",
      "File \u001b[0;32m~/work/LibSignal/agent/dqn_states.py:23\u001b[0m, in \u001b[0;36mDQNSAgent.__init__\u001b[0;34m(self, world, rank)\u001b[0m\n\u001b[1;32m     22\u001b[0m \u001b[39mdef\u001b[39;00m \u001b[39m__init__\u001b[39m(\u001b[39mself\u001b[39m, world, rank):\n\u001b[0;32m---> 23\u001b[0m     \u001b[39msuper\u001b[39;49m()\u001b[39m.\u001b[39;49m\u001b[39m__init__\u001b[39;49m(world, rank)\n\u001b[1;32m     24\u001b[0m     \u001b[39mself\u001b[39m\u001b[39m.\u001b[39mbuffer_size \u001b[39m=\u001b[39m Registry\u001b[39m.\u001b[39mmapping[\u001b[39m'\u001b[39m\u001b[39mtrainer_mapping\u001b[39m\u001b[39m'\u001b[39m][\u001b[39m'\u001b[39m\u001b[39msetting\u001b[39m\u001b[39m'\u001b[39m]\u001b[39m.\u001b[39mparam[\u001b[39m'\u001b[39m\u001b[39mbuffer_size\u001b[39m\u001b[39m'\u001b[39m]\n\u001b[1;32m     25\u001b[0m     \u001b[39mself\u001b[39m\u001b[39m.\u001b[39mreplay_buffer \u001b[39m=\u001b[39m deque(maxlen\u001b[39m=\u001b[39m\u001b[39mself\u001b[39m\u001b[39m.\u001b[39mbuffer_size)\n",
      "File \u001b[0;32m~/work/LibSignal/agent/rl_agent.py:24\u001b[0m, in \u001b[0;36mRLAgent.__init__\u001b[0;34m(self, world, rank)\u001b[0m\n\u001b[1;32m     21\u001b[0m \u001b[39mself\u001b[39m\u001b[39m.\u001b[39mone_hot \u001b[39m=\u001b[39m Registry\u001b[39m.\u001b[39mmapping[\u001b[39m'\u001b[39m\u001b[39mmodel_mapping\u001b[39m\u001b[39m'\u001b[39m][\u001b[39m'\u001b[39m\u001b[39msetting\u001b[39m\u001b[39m'\u001b[39m]\u001b[39m.\u001b[39mparam[\u001b[39m'\u001b[39m\u001b[39mone_hot\u001b[39m\u001b[39m'\u001b[39m]\n\u001b[1;32m     23\u001b[0m \u001b[39mself\u001b[39m\u001b[39m.\u001b[39maction_space \u001b[39m=\u001b[39m spaces\u001b[39m.\u001b[39mDiscrete(\u001b[39mlen\u001b[39m(\u001b[39mself\u001b[39m\u001b[39m.\u001b[39minter_obj\u001b[39m.\u001b[39mphases))\n\u001b[0;32m---> 24\u001b[0m \u001b[39mself\u001b[39;49m\u001b[39m.\u001b[39;49m_create_generators()\n\u001b[1;32m     25\u001b[0m \u001b[39m# follow PettingZoo Env, use spaces.Box as observation_space\u001b[39;00m\n\u001b[1;32m     26\u001b[0m \u001b[39mif\u001b[39;00m \u001b[39mtype\u001b[39m(\u001b[39mself\u001b[39m\u001b[39m.\u001b[39mob_generator) \u001b[39m==\u001b[39m \u001b[39mlist\u001b[39m:\n",
      "File \u001b[0;32m~/work/LibSignal/agent/dqn_states.py:57\u001b[0m, in \u001b[0;36mDQNSAgent._create_generators\u001b[0;34m(self)\u001b[0m\n\u001b[1;32m     53\u001b[0m \u001b[39mdef\u001b[39;00m \u001b[39m_create_generators\u001b[39m(\u001b[39mself\u001b[39m):\n\u001b[1;32m     54\u001b[0m     \u001b[39m# self.ob_generator = LaneVehicleGenerator(self.world, self.inter_obj,\u001b[39;00m\n\u001b[1;32m     55\u001b[0m     \u001b[39m#                                          [\"lane_count\"], in_only=True, average=None)\u001b[39;00m\n\u001b[1;32m     56\u001b[0m     \u001b[39msuper\u001b[39m()\u001b[39m.\u001b[39m_create_generators()\n\u001b[0;32m---> 57\u001b[0m     \u001b[39mself\u001b[39m\u001b[39m.\u001b[39mob_generator \u001b[39m=\u001b[39m [LaneVehicleGenerator(\u001b[39mself\u001b[39;49m\u001b[39m.\u001b[39;49mworld, \u001b[39mself\u001b[39;49m\u001b[39m.\u001b[39;49minter_obj,\n\u001b[1;32m     58\u001b[0m                                              [\u001b[39m\"\u001b[39;49m\u001b[39mlane_pressure\u001b[39;49m\u001b[39m\"\u001b[39;49m], in_only\u001b[39m=\u001b[39;49m\u001b[39mTrue\u001b[39;49;00m, average\u001b[39m=\u001b[39;49m\u001b[39mNone\u001b[39;49;00m),\n\u001b[1;32m     59\u001b[0m                          LaneVehicleGenerator(\u001b[39mself\u001b[39m\u001b[39m.\u001b[39mworld, \u001b[39mself\u001b[39m\u001b[39m.\u001b[39minter_obj,\n\u001b[1;32m     60\u001b[0m                                              [\u001b[39m\"\u001b[39m\u001b[39mlane_count\u001b[39m\u001b[39m\"\u001b[39m], in_only\u001b[39m=\u001b[39m\u001b[39mTrue\u001b[39;00m, average\u001b[39m=\u001b[39m\u001b[39mNone\u001b[39;00m)\n\u001b[1;32m     61\u001b[0m     ]\n",
      "File \u001b[0;32m~/work/LibSignal/generator/lane_vehicle.py:123\u001b[0m, in \u001b[0;36mLaneVehicleGenerator.__init__\u001b[0;34m(self, world, I, fns, in_only, average, negative)\u001b[0m\n\u001b[1;32m    120\u001b[0m     \u001b[39mraise\u001b[39;00m \u001b[39mException\u001b[39;00m(\u001b[39m'\u001b[39m\u001b[39mNOT IMPLEMENTED YET\u001b[39m\u001b[39m'\u001b[39m)\n\u001b[1;32m    122\u001b[0m \u001b[39m# subscribe functions\u001b[39;00m\n\u001b[0;32m--> 123\u001b[0m \u001b[39mself\u001b[39;49m\u001b[39m.\u001b[39;49mworld\u001b[39m.\u001b[39;49msubscribe(fns)\n\u001b[1;32m    124\u001b[0m \u001b[39mself\u001b[39m\u001b[39m.\u001b[39mfns \u001b[39m=\u001b[39m fns\n\u001b[1;32m    126\u001b[0m \u001b[39m# calculate result dimensions\u001b[39;00m\n",
      "File \u001b[0;32m~/work/LibSignal/world/world_sumo.py:655\u001b[0m, in \u001b[0;36mWorld.subscribe\u001b[0;34m(self, fns)\u001b[0m\n\u001b[1;32m    653\u001b[0m         \u001b[39mself\u001b[39m\u001b[39m.\u001b[39mfns\u001b[39m.\u001b[39mappend(fn)\n\u001b[1;32m    654\u001b[0m \u001b[39melse\u001b[39;00m:\n\u001b[0;32m--> 655\u001b[0m     \u001b[39mraise\u001b[39;00m \u001b[39mException\u001b[39;00m(\u001b[39mf\u001b[39m\u001b[39m'\u001b[39m\u001b[39mInfo function \u001b[39m\u001b[39m{\u001b[39;00mfn\u001b[39m}\u001b[39;00m\u001b[39m not implemented\u001b[39m\u001b[39m'\u001b[39m)\n",
      "\u001b[0;31mException\u001b[0m: Info function lane_pressure not implemented"
     ]
    }
   ],
   "source": [
    "%run run.py -w sumo -n sumohz1x1"
   ]
  },
  {
   "cell_type": "markdown",
   "metadata": {},
   "source": [
    "***"
   ]
  },
  {
   "cell_type": "markdown",
   "metadata": {},
   "source": [
    "# 4.How to visualize simulation results?"
   ]
  },
  {
   "cell_type": "code",
   "execution_count": 5,
   "metadata": {},
   "outputs": [
    {
     "data": {
      "image/png": "[encoded data removed]",
      "text/plain": [
       "<Figure size 1100x800 with 6 Axes>"
      ]
     },
     "metadata": {},
     "output_type": "display_data"
    }
   ],
   "source": [
    "from utils.painter import painter\n",
    "cityflow_4x4 = '/home/jovyan/work/LibSignal/data/output_data/tsc/cityflow_dqn_states/cityflow4x4/states-lp-lc/logger/2023_09_18-19_59_39_DTL.log'\n",
    "painter({'hz4x4': cityflow_4x4}, ['epoch', 'average travel time', 'rewards','delay'])"
   ]
  },
  {
   "cell_type": "markdown",
   "metadata": {},
   "source": [
    "# 5.How to contribute to our LibSignal project?"
   ]
  },
  {
   "cell_type": "code",
   "execution_count": null,
   "metadata": {},
   "outputs": [],
   "source": [
    "Users can use"
   ]
  }
 ],
 "metadata": {
  "kernelspec": {
   "display_name": "libsignal",
   "language": "python",
   "name": "python3"
  },
  "language_info": {
   "codemirror_mode": {
    "name": "ipython",
    "version": 3
   },
   "file_extension": ".py",
   "mimetype": "text/x-python",
   "name": "python",
   "nbconvert_exporter": "python",
   "pygments_lexer": "ipython3",
   "version": "3.8.17"
  }
 },
 "nbformat": 4,
 "nbformat_minor": 4
}
