{
 "cells": [
  {
   "cell_type": "code",
   "execution_count": null,
   "metadata": {},
   "outputs": [],
   "source": [
    "import json\n",
    "from json import JSONDecodeError"
   ]
  },
  {
   "cell_type": "code",
   "execution_count": 12,
   "metadata": {},
   "outputs": [],
   "source": [
    "import argparse\n",
    "parser = argparse.ArgumentParser(description='args2')\n",
    "# parseargs\n",
    "parser = argparse.ArgumentParser(description='Run Experiment')\n",
    "parser.add_argument('--thread_num', type=int, default=4, help='number of threads')  # used in cityflow\n",
    "parser.add_argument('--ngpu', type=str, default=\"-1\", help='gpu to be used')  # choose gpu card\n",
    "parser.add_argument('--prefix', type=str, default='0', help=\"the number of predix in this running process\")\n",
    "parser.add_argument('--seed', type=int, default=None, help=\"seed for pytorch backend\")\n",
    "parser.add_argument('--debug', type=bool, default=False)\n",
    "\n",
    "parser.add_argument('-t', '--task', type=str, default=\"tsc\", help=\"task type to run\")\n",
    "parser.add_argument('-a', '--agent', type=str, default=\"dqn\", help=\"agent type of agents in RL environment\")\n",
    "parser.add_argument('-w', '--world', type=str, default=\"cityflow\", help=\"simulator type\")\n",
    "parser.add_argument('-n', '--network', type=str, default=\"cityflow1x1\", help=\"newtork name\")\n",
    "parser.add_argument('-d', '--dataset', type=str, default='onfly', help='type of dataset in training process')\n",
    "parser.add_argument('--test_when_train', action=\"store_false\", default=True)\n",
    "\n",
    "args = parser.parse_args([])"
   ]
  },
  {
   "cell_type": "code",
   "execution_count": 13,
   "metadata": {},
   "outputs": [],
   "source": [
    "from utils.logger import modify_config_file, build_config, load_config_dict, get_output_file_path\n",
    "config, _= build_config(args=args)\n",
    "path = os.path.join(os.getcwd(), 'configs/sim', config['command']['network'] + '.cfg')"
   ]
  },
  {
   "cell_type": "code",
   "execution_count": 14,
   "metadata": {},
   "outputs": [
    {
     "data": {
      "text/plain": [
       "{'task': {'description': 'use RL methods to optimize traffic signal control problems',\n",
       "  'task_name': 'tsc'},\n",
       " 'world': {'interval': 1.0,\n",
       "  'seed': 0,\n",
       "  'dir': 'data/',\n",
       "  'saveReplay': False,\n",
       "  'report_log_mode': 'normal',\n",
       "  'report_log_rate': 10,\n",
       "  'no_warning': True,\n",
       "  'gui': False,\n",
       "  'rlTrafficLight': True},\n",
       " 'trainer': {'thread': 4,\n",
       "  'ngpu': -1,\n",
       "  'learning_start': 1000,\n",
       "  'buffer_size': 5000,\n",
       "  'steps': 3600,\n",
       "  'test_steps': 3600,\n",
       "  'yellow_length': 5,\n",
       "  'action_interval': 10,\n",
       "  'episodes': 200,\n",
       "  'update_model_rate': 1,\n",
       "  'update_target_rate': 10,\n",
       "  'test_when_train': True},\n",
       " 'model': {'name': 'dqn',\n",
       "  'train_model': True,\n",
       "  'test_model': True,\n",
       "  'load_model': False,\n",
       "  'graphic': False,\n",
       "  'vehicle_max': 1,\n",
       "  'learning_rate': 0.001,\n",
       "  'batch_size': 64,\n",
       "  'gamma': 0.95,\n",
       "  'epsilon': 0.5,\n",
       "  'epsilon_decay': 0.995,\n",
       "  'epsilon_min': 0.05,\n",
       "  'grad_clip': 5.0,\n",
       "  'one_hot': False,\n",
       "  'phase': False},\n",
       " 'logger': {'root_dir': 'data/output_data/',\n",
       "  'log_dir': 'logger/',\n",
       "  'replay_dir': 'replay/',\n",
       "  'model_dir': 'model/',\n",
       "  'data_dir': 'dataset/',\n",
       "  'save_model': True,\n",
       "  'save_rate': 200,\n",
       "  'attention': False},\n",
       " 'command': {'thread_num': 4,\n",
       "  'ngpu': '-1',\n",
       "  'prefix': '0',\n",
       "  'seed': None,\n",
       "  'debug': False,\n",
       "  'task': 'tsc',\n",
       "  'agent': 'dqn',\n",
       "  'world': 'cityflow',\n",
       "  'network': 'cityflow1x1',\n",
       "  'dataset': 'onfly',\n",
       "  'test_when_train': True}}"
      ]
     },
     "execution_count": 14,
     "metadata": {},
     "output_type": "execute_result"
    }
   ],
   "source": [
    "config"
   ]
  },
  {
   "cell_type": "code",
   "execution_count": null,
   "metadata": {},
   "outputs": [],
   "source": [
    "modify_config_file(path, config)"
   ]
  },
  {
   "cell_type": "code",
   "execution_count": null,
   "metadata": {},
   "outputs": [],
   "source": [
    "get_output_file_path(config)"
   ]
  },
  {
   "cell_type": "code",
   "execution_count": 1,
   "metadata": {},
   "outputs": [],
   "source": [
    "import logging\n",
    "from utils.logger import SeverityLevelBetween\n",
    "from datetime import datetime\n",
    "def setup_logging(level):\n",
    "    root = logging.getLogger()\n",
    "    # Perform setup only if logging has not been configured\n",
    "    if not root.hasHandlers():\n",
    "        print('here')\n",
    "        root.setLevel(level)\n",
    "        log_formatter = logging.Formatter(\n",
    "            \"%(asctime)s (%(levelname)s): %(message)s\",\n",
    "            datefmt=\"%Y-%m-%d %H:%M:%S\",\n",
    "        )\n",
    "\n",
    "        # Send INFO to stdout\n",
    "        handler_out = logging.StreamHandler(sys.stdout)\n",
    "        handler_out.addFilter(\n",
    "            SeverityLevelBetween(logging.INFO, logging.WARNING)\n",
    "        )\n",
    "        handler_out.setFormatter(log_formatter)\n",
    "        root.addHandler(handler_out)\n",
    "\n",
    "        # Send WARNING (and higher) to stderr\n",
    "        handler_err = logging.StreamHandler(sys.stderr)\n",
    "        handler_err.setLevel(logging.WARNING)\n",
    "        handler_err.setFormatter(log_formatter)\n",
    "        root.addHandler(handler_err)\n",
    "\n",
    "        logger_dir = os.path.join(\n",
    "            'path',\n",
    "            'dir')\n",
    "        if not os.path.exists(logger_dir):\n",
    "            os.makedirs(logger_dir)\n",
    "\n",
    "        handler_file = logging.FileHandler(os.path.join(\n",
    "            logger_dir,\n",
    "            f\"{datetime.now().strftime('%Y_%m_%d-%H_%M_%S')}.log\"), mode='w'\n",
    "        )\n",
    "        handler_file.setLevel(level)  # TODO: SET LEVEL\n",
    "        root.addHandler(handler_file)\n",
    "        print(handler_file)\n",
    "    return root"
   ]
  },
  {
   "cell_type": "code",
   "execution_count": 2,
   "metadata": {},
   "outputs": [
    {
     "name": "stdout",
     "output_type": "stream",
     "text": [
      "here\n",
      "<FileHandler /home/derekmei233/DaRL/LibSignal/path/dir/2022_06_21-23_33_21.log (DEBUG)>\n"
     ]
    }
   ],
   "source": [
    "log = setup_logging(logging.DEBUG)"
   ]
  },
  {
   "cell_type": "code",
   "execution_count": 11,
   "metadata": {},
   "outputs": [
    {
     "name": "stdout",
     "output_type": "stream",
     "text": [
      "a\n"
     ]
    }
   ],
   "source": [
    "a = {1:'1', 2: '2'}\n",
    "try:\n",
    "    a[3]\n",
    "    \n",
    "except Exception:\n",
    "    print('a')"
   ]
  },
  {
   "cell_type": "code",
   "execution_count": 63,
   "metadata": {},
   "outputs": [],
   "source": [
    "m = mod()"
   ]
  },
  {
   "cell_type": "code",
   "execution_count": null,
   "metadata": {},
   "outputs": [],
   "source": []
  },
  {
   "cell_type": "code",
   "execution_count": null,
   "metadata": {},
   "outputs": [],
   "source": []
  },
  {
   "cell_type": "code",
   "execution_count": null,
   "metadata": {},
   "outputs": [],
   "source": []
  }
 ],
 "metadata": {
  "kernelspec": {
   "display_name": "Python 3.9.0 ('libsignal')",
   "language": "python",
   "name": "python3"
  },
  "language_info": {
   "codemirror_mode": {
    "name": "ipython",
    "version": 3
   },
   "file_extension": ".py",
   "mimetype": "text/x-python",
   "name": "python",
   "nbconvert_exporter": "python",
   "pygments_lexer": "ipython3",
   "version": "3.9.0"
  },
  "orig_nbformat": 4,
  "vscode": {
   "interpreter": {
    "hash": "007d46e82d3179340aa75ec94d549f17d72597a33c03072ff1927547041e0e55"
   }
  }
 },
 "nbformat": 4,
 "nbformat_minor": 2
}
