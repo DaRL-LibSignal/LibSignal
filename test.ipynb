{
 "cells": [
  {
   "cell_type": "code",
   "execution_count": null,
   "metadata": {},
   "outputs": [],
   "source": [
    "import json\n",
    "from json import JSONDecodeError"
   ]
  },
  {
   "cell_type": "code",
   "execution_count": null,
   "metadata": {},
   "outputs": [],
   "source": [
    "import argparse\n",
    "parser = argparse.ArgumentParser(description='args2')\n",
    "# parseargs\n",
    "parser = argparse.ArgumentParser(description='Run Experiment')\n",
    "parser.add_argument('--thread_num', type=int, default=4, help='number of threads')  # used in cityflow\n",
    "parser.add_argument('--ngpu', type=str, default=\"-1\", help='gpu to be used')  # choose gpu card\n",
    "parser.add_argument('--prefix', type=str, default='0', help=\"the number of predix in this running process\")\n",
    "parser.add_argument('--seed', type=int, default=None, help=\"seed for pytorch backend\")\n",
    "parser.add_argument('--debug', type=bool, default=False)\n",
    "\n",
    "parser.add_argument('-t', '--task', type=str, default=\"tsc\", help=\"task type to run\")\n",
    "parser.add_argument('-a', '--agent', type=str, default=\"dqn\", help=\"agent type of agents in RL environment\")\n",
    "parser.add_argument('-w', '--world', type=str, default=\"cityflow\", help=\"simulator type\")\n",
    "parser.add_argument('-n', '--network', type=str, default=\"cityflow1x1\", help=\"newtork name\")\n",
    "parser.add_argument('-d', '--dataset', type=str, default='onfly', help='type of dataset in training process')\n",
    "\n",
    "args = parser.parse_args([])"
   ]
  },
  {
   "cell_type": "code",
   "execution_count": null,
   "metadata": {},
   "outputs": [],
   "source": [
    "from utils.logger import modify_config_file, build_config, load_config_dict, get_output_file_path\n",
    "config, _= build_config(args=args)\n",
    "path = os.path.join(os.getcwd(), 'configs/sim', config['command']['network'] + '.cfg')"
   ]
  },
  {
   "cell_type": "code",
   "execution_count": null,
   "metadata": {},
   "outputs": [],
   "source": [
    "modify_config_file(path, config)"
   ]
  },
  {
   "cell_type": "code",
   "execution_count": null,
   "metadata": {},
   "outputs": [],
   "source": [
    "get_output_file_path(config)"
   ]
  },
  {
   "cell_type": "code",
   "execution_count": 1,
   "metadata": {},
   "outputs": [],
   "source": [
    "import logging\n",
    "from utils.logger import SeverityLevelBetween\n",
    "from datetime import datetime\n",
    "def setup_logging(level):\n",
    "    root = logging.getLogger()\n",
    "    # Perform setup only if logging has not been configured\n",
    "    if not root.hasHandlers():\n",
    "        print('here')\n",
    "        root.setLevel(level)\n",
    "        log_formatter = logging.Formatter(\n",
    "            \"%(asctime)s (%(levelname)s): %(message)s\",\n",
    "            datefmt=\"%Y-%m-%d %H:%M:%S\",\n",
    "        )\n",
    "\n",
    "        # Send INFO to stdout\n",
    "        handler_out = logging.StreamHandler(sys.stdout)\n",
    "        handler_out.addFilter(\n",
    "            SeverityLevelBetween(logging.INFO, logging.WARNING)\n",
    "        )\n",
    "        handler_out.setFormatter(log_formatter)\n",
    "        root.addHandler(handler_out)\n",
    "\n",
    "        # Send WARNING (and higher) to stderr\n",
    "        handler_err = logging.StreamHandler(sys.stderr)\n",
    "        handler_err.setLevel(logging.WARNING)\n",
    "        handler_err.setFormatter(log_formatter)\n",
    "        root.addHandler(handler_err)\n",
    "\n",
    "        logger_dir = os.path.join(\n",
    "            'path',\n",
    "            'dir')\n",
    "        if not os.path.exists(logger_dir):\n",
    "            os.makedirs(logger_dir)\n",
    "\n",
    "        handler_file = logging.FileHandler(os.path.join(\n",
    "            logger_dir,\n",
    "            f\"{datetime.now().strftime('%Y_%m_%d-%H_%M_%S')}.log\"), mode='w'\n",
    "        )\n",
    "        handler_file.setLevel(level)  # TODO: SET LEVEL\n",
    "        root.addHandler(handler_file)\n",
    "        print(handler_file)\n",
    "    return root"
   ]
  },
  {
   "cell_type": "code",
   "execution_count": 2,
   "metadata": {},
   "outputs": [
    {
     "name": "stdout",
     "output_type": "stream",
     "text": [
      "here\n",
      "<FileHandler /home/derekmei233/DaRL/LibSignal/path/dir/2022_06_21-23_33_21.log (DEBUG)>\n"
     ]
    }
   ],
   "source": [
    "log = setup_logging(logging.DEBUG)"
   ]
  },
  {
   "cell_type": "code",
   "execution_count": 62,
   "metadata": {},
   "outputs": [],
   "source": [
    "class mod():\n",
    "    def __init__(self):\n",
    "        self.mod = 'yes'\n",
    "        self.mod2 = 'ne'\n",
    "\n",
    "    def __repr__(self):\n",
    "        return self.mod + '\\n' + self.mod2"
   ]
  },
  {
   "cell_type": "code",
   "execution_count": 63,
   "metadata": {},
   "outputs": [],
   "source": [
    "m = mod()"
   ]
  },
  {
   "cell_type": "code",
   "execution_count": null,
   "metadata": {},
   "outputs": [],
   "source": []
  },
  {
   "cell_type": "code",
   "execution_count": null,
   "metadata": {},
   "outputs": [],
   "source": []
  },
  {
   "cell_type": "code",
   "execution_count": null,
   "metadata": {},
   "outputs": [],
   "source": []
  }
 ],
 "metadata": {
  "kernelspec": {
   "display_name": "Python 3.9.0 ('libsignal')",
   "language": "python",
   "name": "python3"
  },
  "language_info": {
   "codemirror_mode": {
    "name": "ipython",
    "version": 3
   },
   "file_extension": ".py",
   "mimetype": "text/x-python",
   "name": "python",
   "nbconvert_exporter": "python",
   "pygments_lexer": "ipython3",
   "version": "3.9.0"
  },
  "orig_nbformat": 4,
  "vscode": {
   "interpreter": {
    "hash": "007d46e82d3179340aa75ec94d549f17d72597a33c03072ff1927547041e0e55"
   }
  }
 },
 "nbformat": 4,
 "nbformat_minor": 2
}
